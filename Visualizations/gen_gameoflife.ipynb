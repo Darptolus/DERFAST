{
 "cells": [
  {
   "cell_type": "code",
   "execution_count": 5,
   "metadata": {},
   "outputs": [],
   "source": [
    "import numpy as np\n",
    "\n",
    "# Define dimensions\n",
    "width = 100\n",
    "height = 100\n",
    "\n",
    "# Pattern 1: Glider Gun and Block Pattern\n",
    "def generate_glider_gun_block_pattern(width, height):\n",
    "    grid = np.zeros((height, width), dtype=int)\n",
    "\n",
    "    # Add a glider gun pattern on the left\n",
    "    glider_gun = [\n",
    "        [0, 0, 0, 0, 0, 0, 0, 0, 0, 0, 0, 0, 0, 0, 0, 0, 0, 0, 0, 0, 0, 0, 0, 0, 0, 0, 0, 0, 0, 0, 0, 0, 0, 0],\n",
    "        [0, 0, 0, 0, 0, 0, 0, 0, 0, 0, 0, 0, 0, 0, 0, 0, 0, 0, 0, 0, 0, 0, 0, 0, 0, 0, 0, 0, 0, 0, 0, 0, 0, 0],\n",
    "        [0, 0, 0, 0, 0, 0, 0, 0, 0, 0, 0, 0, 0, 0, 0, 0, 0, 0, 0, 0, 0, 0, 0, 0, 0, 0, 0, 0, 0, 0, 0, 0, 0, 0],\n",
    "        [0, 0, 0, 0, 0, 0, 0, 0, 0, 0, 0, 0, 0, 0, 0, 0, 0, 0, 0, 0, 0, 0, 0, 0, 0, 0, 0, 0, 0, 0, 0, 0, 0, 0],\n",
    "        [0, 0, 0, 0, 0, 0, 0, 0, 0, 0, 0, 0, 0, 0, 0, 0, 0, 0, 0, 0, 0, 0, 0, 0, 0, 0, 0, 0, 0, 0, 0, 0, 0, 0],\n",
    "        [0, 0, 0, 0, 0, 0, 0, 0, 0, 0, 0, 0, 0, 0, 0, 0, 0, 0, 0, 0, 0, 0, 0, 0, 0, 0, 0, 0, 0, 0, 0, 0, 0, 0],\n",
    "        [0, 0, 0, 0, 0, 0, 0, 0, 0, 0, 0, 0, 0, 0, 0, 0, 0, 0, 0, 0, 0, 0, 0, 0, 0, 0, 0, 0, 0, 0, 0, 0, 0, 0],\n",
    "        [0, 0, 0, 0, 0, 0, 0, 0, 0, 0, 0, 0, 0, 0, 0, 0, 0, 0, 0, 0, 0, 0, 0, 0, 0, 0, 0, 0, 0, 0, 0, 0, 0, 0]\n",
    "    ]\n",
    "    grid[1:9, 1:35] = glider_gun\n",
    "\n",
    "    # Add block pattern on the right\n",
    "    grid[90:92, 90:92] = 1  # Block\n",
    "    return grid\n",
    "\n",
    "# Pattern 2: Random interesting clusters\n",
    "def generate_random_cluster_pattern(width, height):\n",
    "    grid = np.zeros((height, width), dtype=int)\n",
    "\n",
    "    # Randomly create clusters of 1's\n",
    "    num_clusters = 10\n",
    "    np.random.seed(42)  # For reproducibility\n",
    "\n",
    "    for _ in range(num_clusters):\n",
    "        cluster_size = np.random.randint(3, 8)\n",
    "        start_x = np.random.randint(0, width - cluster_size)\n",
    "        start_y = np.random.randint(0, height - cluster_size)\n",
    "        grid[start_y:start_y + cluster_size, start_x:start_x + cluster_size] = np.random.randint(0, 2, (cluster_size, cluster_size))\n",
    "\n",
    "    return grid\n",
    "\n",
    "# Generate the patterns\n",
    "glider_gun_pattern = generate_glider_gun_block_pattern(width, height)\n",
    "random_cluster_pattern = generate_random_cluster_pattern(width, height)\n",
    "\n",
    "# Save to files\n",
    "np.savetxt(\"glider_gun_block_100x100.txt\", glider_gun_pattern, fmt='%d')\n",
    "np.savetxt(\"random_cluster_100x100.txt\", random_cluster_pattern, fmt='%d')\n",
    "\n",
    "# \"/mnt/data/glider_gun_block_100x100.txt\", \"/mnt/data/random_cluster_100x100.txt\"\n"
   ]
  }
 ],
 "metadata": {
  "kernelspec": {
   "display_name": "Python 3",
   "language": "python",
   "name": "python3"
  },
  "language_info": {
   "codemirror_mode": {
    "name": "ipython",
    "version": 3
   },
   "file_extension": ".py",
   "mimetype": "text/x-python",
   "name": "python",
   "nbconvert_exporter": "python",
   "pygments_lexer": "ipython3",
   "version": "3.10.12"
  }
 },
 "nbformat": 4,
 "nbformat_minor": 2
}
