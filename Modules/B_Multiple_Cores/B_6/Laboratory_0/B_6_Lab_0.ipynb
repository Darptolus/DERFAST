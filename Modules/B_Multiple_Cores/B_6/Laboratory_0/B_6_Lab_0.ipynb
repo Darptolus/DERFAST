{
 "cells": [
  {
   "cell_type": "markdown",
   "metadata": {},
   "source": [
    "# OpenMP (Open Multi-Processing) \n",
    "Provides a set of constructs to help parallelize code, specifically for shared-memory systems. Here are the basic constructs in OpenMP:\n",
    "\n",
    "## 1. Parallel Regions (#pragma omp parallel):\n",
    "This construct creates a parallel region, where code is executed by multiple threads concurrently. All threads execute the same code within this region.\n",
    "\n",
    "```\n",
    "#pragma omp parallel\n",
    "{\n",
    "    // Code to be executed in parallel\n",
    "}\n",
    "```"
   ]
  },
  {
   "cell_type": "code",
   "execution_count": null,
   "metadata": {
    "vscode": {
     "languageId": "plaintext"
    }
   },
   "outputs": [],
   "source": [
    "cd ~/Modules/B_6/Lab_0\n",
    "PROG=omp_parallel; g++ -fopenmp ${PROG}.cpp -o ${PROG}\n",
    "./${PROG}"
   ]
  },
  {
   "cell_type": "markdown",
   "metadata": {},
   "source": [
    "## 2. Worksharing Constructs:\n",
    "These constructs split tasks among threads to avoid redundancy.\n",
    "\n",
    "### 2.1 For Loops (#pragma omp for):\n",
    "Distributes iterations of a loop across threads.\n",
    "\n",
    "```\n",
    "#pragma omp parallel for\n",
    "for (int i = 0; i < n; i++) {\n",
    "    // Each thread gets a chunk of iterations\n",
    "}\n",
    "```"
   ]
  },
  {
   "cell_type": "code",
   "execution_count": null,
   "metadata": {
    "vscode": {
     "languageId": "plaintext"
    }
   },
   "outputs": [],
   "source": [
    "PROG=omp_parallelfor; g++ -fopenmp ${PROG}.cpp -o ${PROG}\n",
    "./${PROG}"
   ]
  },
  {
   "cell_type": "markdown",
   "metadata": {},
   "source": [
    "### 2.2 Sections (#pragma omp sections):\n",
    "Divides tasks into sections that can be executed by different threads.\n",
    "\n",
    "```\n",
    "#pragma omp parallel sections\n",
    "{\n",
    "    #pragma omp section\n",
    "    {\n",
    "        // Task A\n",
    "    }\n",
    "    #pragma omp section\n",
    "    {\n",
    "        // Task B\n",
    "    }\n",
    "}\n",
    "```"
   ]
  },
  {
   "cell_type": "code",
   "execution_count": null,
   "metadata": {
    "vscode": {
     "languageId": "plaintext"
    }
   },
   "outputs": [],
   "source": [
    "PROG=omp_sections; g++ -fopenmp ${PROG}.cpp -o ${PROG}\n",
    "./${PROG}"
   ]
  },
  {
   "cell_type": "markdown",
   "metadata": {},
   "source": [
    "### 2.3 Single (#pragma omp single): \n",
    "\n",
    "Ensures a block of code is executed by only one thread.\n",
    "\n",
    "```\n",
    "#pragma omp parallel\n",
    "{\n",
    "    #pragma omp single\n",
    "    {\n",
    "        // Code executed by one thread only\n",
    "    }\n",
    "}\n",
    "```"
   ]
  },
  {
   "cell_type": "code",
   "execution_count": null,
   "metadata": {
    "vscode": {
     "languageId": "plaintext"
    }
   },
   "outputs": [],
   "source": [
    "PROG=omp_single; g++ -fopenmp ${PROG}.cpp -o ${PROG}\n",
    "./${PROG}"
   ]
  },
  {
   "cell_type": "markdown",
   "metadata": {},
   "source": [
    "## 3. Synchronization Constructs:\n",
    "To manage dependencies and avoid race conditions.\n",
    "\n",
    "### 3.1 Barrier (#pragma omp barrier): \n",
    "All threads wait at this point until all threads in the team reach the barrier.\n",
    "\n",
    "```\n",
    "#pragma omp parallel\n",
    "{      \n",
    "  #pragma omp barrier  // All threads wait here until all have reached this point\n",
    "}\n",
    "```"
   ]
  },
  {
   "cell_type": "code",
   "execution_count": null,
   "metadata": {
    "vscode": {
     "languageId": "plaintext"
    }
   },
   "outputs": [],
   "source": [
    "PROG=omp_barrier; g++ -fopenmp ${PROG}.cpp -o ${PROG}\n",
    "./${PROG}"
   ]
  },
  {
   "cell_type": "markdown",
   "metadata": {},
   "source": [
    "### 3.2 Critical (#pragma omp critical): \n",
    "Allows only one thread at a time to execute the code within the critical section.\n",
    "\n",
    "```\n",
    "#pragma omp critical\n",
    "{\n",
    "    // Code that must be executed by only one thread at a time\n",
    "}\n",
    "```"
   ]
  },
  {
   "cell_type": "code",
   "execution_count": null,
   "metadata": {
    "vscode": {
     "languageId": "plaintext"
    }
   },
   "outputs": [],
   "source": [
    "PROG=omp_critical; g++ -fopenmp ${PROG}.cpp -o ${PROG}\n",
    "./${PROG}"
   ]
  },
  {
   "cell_type": "markdown",
   "metadata": {},
   "source": [
    "### 3.3 Atomic (#pragma omp atomic): \n",
    "\n",
    "Ensures a specific memory update (like incrementing a counter) is done atomically.\n",
    "\n",
    "```\n",
    "#pragma omp atomic\n",
    "// Code that must be executed by only one thread at a time\n",
    "```"
   ]
  },
  {
   "cell_type": "code",
   "execution_count": null,
   "metadata": {
    "vscode": {
     "languageId": "plaintext"
    }
   },
   "outputs": [],
   "source": [
    "PROG=omp_atomic; g++ -fopenmp ${PROG}.cpp -o ${PROG}\n",
    "./${PROG}"
   ]
  },
  {
   "cell_type": "markdown",
   "metadata": {},
   "source": [
    "## 4. Data Scoping Clauses: Controls variable visibility and data sharing among threads.\n",
    "\n",
    "### 4.1 Private: \n",
    "Each thread has its own instance of a variable.\n",
    "```\n",
    "#pragma omp parallel private(i)\n",
    "```\n",
    "\n",
    "### 4.2 Shared: \n",
    "A variable is shared among all threads.\n",
    "```\n",
    "#pragma omp parallel shared(data)\n",
    "```\n",
    "\n",
    "### 4.3 Firstprivate / Lastprivate: \n",
    "Similar to private but initialized with the original value (firstprivate) or keeps the last computed value (lastprivate).\n"
   ]
  },
  {
   "cell_type": "code",
   "execution_count": null,
   "metadata": {
    "vscode": {
     "languageId": "plaintext"
    }
   },
   "outputs": [],
   "source": [
    "PROG=omp_datascope; g++ -fopenmp ${PROG}.cpp -o ${PROG}\n",
    "./${PROG}"
   ]
  },
  {
   "cell_type": "markdown",
   "metadata": {},
   "source": [
    "\n",
    "## 5 Shared: \n",
    "Tasking Constructs (#pragma omp task): Allows the creation of independent tasks that can be executed by any available thread.\n",
    "\n",
    "```\n",
    "#pragma omp parallel\n",
    "{\n",
    "    #pragma omp single\n",
    "    {\n",
    "        for (int i = 0; i < n; i++) {\n",
    "            #pragma omp task\n",
    "            {\n",
    "                // Task code\n",
    "            }\n",
    "        }\n",
    "    }\n",
    "}\n",
    "```"
   ]
  },
  {
   "cell_type": "code",
   "execution_count": null,
   "metadata": {
    "vscode": {
     "languageId": "plaintext"
    }
   },
   "outputs": [],
   "source": [
    "PROG=omp_task; g++ -fopenmp ${PROG}.cpp -o ${PROG}\n",
    "./${PROG}"
   ]
  }
 ],
 "metadata": {
  "language_info": {
   "name": "python"
  }
 },
 "nbformat": 4,
 "nbformat_minor": 2
}
