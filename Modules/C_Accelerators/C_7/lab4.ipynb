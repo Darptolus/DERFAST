{
 "cells": [
  {
   "cell_type": "markdown",
   "metadata": {},
   "source": [
    "This lab is divided into two parts\n",
    "\n",
    "* [Lab 4.1](lab4.1.ipynb)\n",
    "* [Lab 4.2](lab4.2.ipynb)"
   ]
  }
 ],
 "metadata": {
  "language_info": {
   "name": "python"
  },
  "orig_nbformat": 4
 },
 "nbformat": 4,
 "nbformat_minor": 2
}
