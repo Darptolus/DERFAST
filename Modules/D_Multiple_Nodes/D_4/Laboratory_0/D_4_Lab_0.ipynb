{
 "cells": [
  {
   "cell_type": "markdown",
   "metadata": {},
   "source": [
    "# MPI (Message Passing Interface) \n",
    "Provides a set of calls to help manage communication and coordination in distributed memory parallel programming. Here are the most common and basic MPI calls:"
   ]
  },
  {
   "cell_type": "markdown",
   "metadata": {},
   "source": [
    "## 1. MPI Initialization and Finalization\n",
    "MPI_Init: Initializes the MPI environment. This must be called at the beginning of any MPI program.\n",
    "```\n",
    "MPI_Init(&argc, &argv);\n",
    "```\n",
    "MPI_Finalize: Cleans up the MPI environment. This is typically the last MPI call in a program.\n",
    "```\n",
    "MPI_Finalize();\n",
    "```"
   ]
  },
  {
   "cell_type": "code",
   "execution_count": null,
   "metadata": {
    "vscode": {
     "languageId": "plaintext"
    }
   },
   "outputs": [],
   "source": [
    "cd ~/Modules/D_4/Lab_0\n",
    "PROG=mpi_init; mpic++ ${PROG}.cpp -o ${PROG}\n",
    "cp ${PROG} ~/DEMAC_nfs/\n",
    "cd ~/DEMAC_nfs/\n",
    "PROG=mpi_init; mpirun --host nopa01,nopa02,nopa03,nopa04 ${PROG}"
   ]
  },
  {
   "cell_type": "markdown",
   "metadata": {},
   "source": [
    "\n",
    "## 2. Communicator and Rank Information\n",
    "MPI_Comm_size: Determines the size of a communicator (i.e., the number of processes). For the default communicator, MPI_COMM_WORLD, this returns the total number of processes.\n",
    "```\n",
    "int size;\n",
    "MPI_Comm_size(MPI_COMM_WORLD, &size);\n",
    "```\n",
    "\n",
    "MPI_Comm_rank: Determines the rank (ID) of the calling process within a communicator. Ranks are integers ranging from 0 to size-1.\n",
    "```\n",
    "int rank;\n",
    "MPI_Comm_rank(MPI_COMM_WORLD, &rank);\n",
    "```"
   ]
  },
  {
   "cell_type": "code",
   "execution_count": null,
   "metadata": {
    "vscode": {
     "languageId": "plaintext"
    }
   },
   "outputs": [],
   "source": [
    "PROG=mpi_comm; mpic++ ${PROG}.cpp -o ${PROG}\n",
    "cp ${PROG} ~/DEMAC_nfs/\n",
    "cd ~/DEMAC_nfs/\n",
    "PROG=mpi_comm; mpirun --host nopa01,nopa02,nopa03,nopa04 ${PROG}"
   ]
  },
  {
   "cell_type": "markdown",
   "metadata": {},
   "source": [
    "## 3. Point-to-Point Communication\n",
    "MPI_Send: Sends a message from one process to another. It includes parameters like the buffer (data) to send, data type, destination rank, and a message tag.\n",
    "```\n",
    "MPI_Send(&data, count, MPI_INT, dest, tag, MPI_COMM_WORLD);\n",
    "```\n",
    "MPI_Recv: Receives a message sent by another process. It includes parameters for the receiving buffer, source rank, and tag.\n",
    "```\n",
    "MPI_Recv(&data, count, MPI_INT, source, tag, MPI_COMM_WORLD, &status);\n",
    "```\n"
   ]
  },
  {
   "cell_type": "code",
   "execution_count": null,
   "metadata": {
    "vscode": {
     "languageId": "plaintext"
    }
   },
   "outputs": [],
   "source": [
    "PROG=mpi_sendrcv; mpic++ ${PROG}.cpp -o ${PROG}\n",
    "cp ${PROG} ~/DEMAC_nfs/\n",
    "cd ~/DEMAC_nfs/\n",
    "PROG=mpi_sendrcv; mpirun --host nopa01,nopa02 ${PROG}"
   ]
  },
  {
   "cell_type": "markdown",
   "metadata": {},
   "source": [
    "## 4. Non-Blocking Communication\n",
    "\n",
    "MPI_Isend and MPI_Irecv: Non-blocking versions of MPI_Send and MPI_Recv, allowing processes to perform other work while waiting for messages."
   ]
  },
  {
   "cell_type": "markdown",
   "metadata": {},
   "source": [
    "## 5. Broadcast and Collective Communication\n",
    "MPI_Bcast: Broadcasts a message from one process to all other processes in a communicator.\n",
    "\n",
    "```\n",
    "MPI_Bcast(&data, count, MPI_INT, root, MPI_COMM_WORLD);\n",
    "```\n",
    "MPI_Reduce: Performs a reduction operation (like sum, max) on data across all processes, with the result sent to a specified root process.\n",
    "\n",
    "```\n",
    "MPI_Reduce(&send_data, &recv_data, count, MPI_INT, MPI_SUM, root, MPI_COMM_WORLD);\n",
    "```\n",
    "MPI_Allreduce: Similar to MPI_Reduce, but the result is shared among all processes.\n",
    "```\n",
    "MPI_Allreduce(&send_data, &recv_data, count, MPI_INT, MPI_SUM, MPI_COMM_WORLD);\n",
    "```\n",
    "MPI_Gather: Gathers data from all processes to a specified root process.\n",
    "```\n",
    "MPI_Gather(&send_data, send_count, MPI_INT, recv_data, recv_count, MPI_INT, root, MPI_COMM_WORLD);\n",
    "```\n",
    "MPI_Scatter: Distributes data from a root process to all other processes.\n",
    "```\n",
    "MPI_Scatter(&send_data, send_count, MPI_INT, &recv_data, recv_count, MPI_INT, root, MPI_COMM_WORLD);\n",
    "```"
   ]
  },
  {
   "cell_type": "code",
   "execution_count": null,
   "metadata": {
    "vscode": {
     "languageId": "plaintext"
    }
   },
   "outputs": [],
   "source": [
    "PROG=mpi_bcast; mpic++ ${PROG}.cpp -o ${PROG}\n",
    "cp ${PROG} ~/DEMAC_nfs/\n",
    "cd ~/DEMAC_nfs/\n",
    "PROG=mpi_bcast; mpirun --host nopa01,nopa02,nopa03,nopa04 ${PROG}"
   ]
  },
  {
   "cell_type": "markdown",
   "metadata": {},
   "source": [
    "## 6. Synchronization\n",
    "MPI_Barrier: Blocks all processes in the communicator until all have reached this call, ensuring synchronization.\n",
    "```\n",
    "MPI_Barrier(MPI_COMM_WORLD);\n",
    "```"
   ]
  },
  {
   "cell_type": "code",
   "execution_count": null,
   "metadata": {
    "vscode": {
     "languageId": "plaintext"
    }
   },
   "outputs": [],
   "source": [
    "PROG=mpi_barrier; mpic++ ${PROG}.cpp -o ${PROG}\n",
    "cp ${PROG} ~/DEMAC_nfs/\n",
    "cd ~/DEMAC_nfs/\n",
    "PROG=mpi_barrier; mpirun --host nopa01,nopa02,nopa03,nopa04 ${PROG}"
   ]
  },
  {
   "cell_type": "markdown",
   "metadata": {},
   "source": [
    "## 7. Stencil Example\n",
    "Here’s as stencil MPI program structure using some of these calls:\n",
    "\n",
    "This example demonstrates how to initialize and finalize MPI, get the communicator size and rank, and use MPI_Bcast for broadcasting data to all processes. These basic MPI calls cover most of the primary operations needed for communication in distributed-memory applications."
   ]
  },
  {
   "cell_type": "code",
   "execution_count": null,
   "metadata": {
    "vscode": {
     "languageId": "plaintext"
    }
   },
   "outputs": [],
   "source": [
    "PROG=mpi_stencil; mpic++ ${PROG}.cpp -o ${PROG}\n",
    "cp ${PROG} ~/DEMAC_nfs/\n",
    "cd ~/DEMAC_nfs/\n",
    "PROG=mpi_stencil; mpirun --host nopa01,nopa02,nopa03,nopa04 ${PROG}"
   ]
  }
 ],
 "metadata": {
  "language_info": {
   "name": "python"
  }
 },
 "nbformat": 4,
 "nbformat_minor": 2
}
