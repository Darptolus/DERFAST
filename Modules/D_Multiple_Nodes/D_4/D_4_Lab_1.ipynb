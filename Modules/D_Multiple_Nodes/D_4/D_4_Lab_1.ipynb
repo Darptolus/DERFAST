{
 "cells": [
  {
   "cell_type": "markdown",
   "metadata": {},
   "source": [
    "## Table of content\n",
    "0. What is MPI?\n",
    "1. MPI Basics\n",
    "2. Collective Communications\n",
    "3. Blocking vs Non-blocking\n",
    "4. Stencil Computations\n",
    "\n",
    "based on https://github.com/cybercolombia/hpcsummer2024/blob/track03/\n"
   ]
  },
  {
   "cell_type": "markdown",
   "metadata": {},
   "source": [
    "## 0. What is MPI?\n",
    "MPI, which stands for Message Passing Interface, is a standardized and portable message-passing system designed for parallel computing. It allows multiple processes to communicate with each other, typically in a distributed computing environment such as a cluster or a network of computers.\n",
    "\n",
    "Some of the elements defined by MPI that allow for distributed execution of programs are:\n",
    "\n",
    "- **Process Creation**: MPI programs typically start with a single process, which then spawns multiple processes to perform parallel computations. Each process has its own address space and can run on a different processor or node within a distributed system.\n",
    "\n",
    "- **Message Passing**: MPI enables communication between processes through message passing. Processes can send and receive messages to and from each other using various communication operations provided by the MPI library.\n",
    "\n",
    "- **Data Distribution**: MPI allows for the distribution of data across multiple processes. Each process can work on its own portion of the data, and communication operations are used to exchange data between processes when necessary.\n",
    "\n",
    "- **Synchronization**: MPI provides mechanisms for synchronizing the execution of processes. This ensures that processes coordinate their activities and avoid conflicts when accessing shared resources or data.\n",
    "\n",
    "- **Collective Operations**: MPI supports collective operations, which involve communication and coordination among multiple processes. Examples include collective communication operations like broadcast, scatter, gather, and reduce, which enable efficient data exchange and computation across all processes.\n",
    "\n",
    "MPI is widely used in scientific and engineering applications that require high-performance computing and parallel processing, such as weather modeling, computational fluid dynamics, molecular dynamics simulations, and more. It provides a flexible and efficient way to develop parallel programs that can run on a variety of computing architectures, from multi-core processors to large-scale clusters."
   ]
  },
  {
   "cell_type": "markdown",
   "metadata": {},
   "source": [
    "## 1. MPI Basics\n",
    "\n",
    "### Hello Worlds!\n",
    "\n",
    "Below is a simple \"Hello, World!\" example written in C using MPI. This program will run on multiple processes, each printing out its own \"Hello, World!\" message along with its rank (identifier) within the MPI communicator.\n",
    "\n",
    "```\n",
    "#include <stdio.h>\n",
    "#include <mpi.h>\n",
    "\n",
    "int main(int argc, char** argv) {\n",
    "    // Initialize MPI environment\n",
    "    MPI_Init(&argc, &argv);\n",
    "\n",
    "    // Get the total number of processes and the rank of the current process\n",
    "    int world_size, world_rank;\n",
    "    MPI_Comm_size(MPI_COMM_WORLD, &world_size);\n",
    "    MPI_Comm_rank(MPI_COMM_WORLD, &world_rank);\n",
    "\n",
    "    // Print out \"Hello, World!\" along with the rank of the current process\n",
    "    printf(\"Hello from process %d of %d\\n\", world_rank, world_size);\n",
    "\n",
    "    // Finalize MPI environment\n",
    "    MPI_Finalize();\n",
    "\n",
    "    return 0;\n",
    "}\n",
    "```\n",
    "To compile and run this MPI program using OpenMPI, follow these steps:\n",
    "\n",
    "0. The file hello_worlds.c contains the code required. \n",
    "\n",
    "1. Compile the code using the MPI compiler wrapper provided by OpenMPI. For C code,  use mpicc:\n"
   ]
  },
  {
   "cell_type": "code",
   "execution_count": null,
   "metadata": {},
   "outputs": [],
   "source": [
    "!srun mpic++ -o Code/mpi_hello_worlds.o Code/mpi_hello_worlds.cpp"
   ]
  },
  {
   "cell_type": "markdown",
   "metadata": {},
   "source": [
    "\n",
    "2. Run the MPI program using mpirun, specifying the number of processes to be used:"
   ]
  },
  {
   "cell_type": "code",
   "execution_count": null,
   "metadata": {},
   "outputs": [],
   "source": [
    "!srun mpirun -np 3 ./Code/mpi_hello_worlds.o"
   ]
  },
  {
   "cell_type": "markdown",
   "metadata": {},
   "source": [
    "This command runs the program hello_mpi with 4 processes. You can change 4 to any number you want.\n",
    "\n",
    "3. The output should be similar to the following:\n",
    "\n",
    "Each line represents the \"Hello, World!\" message printed by a different process, along with its rank within the MPI communicator. The order of the output may vary because MPI processes may execute concurrently."
   ]
  },
  {
   "cell_type": "code",
   "execution_count": null,
   "metadata": {},
   "outputs": [],
   "source": [
    "## Send and Receive - Point-to-Point\n",
    "\n",
    "Below is an example of MPI Send and Receive operations in C, along with instructions on how to compile and run the program using OpenMPI.\n",
    "\n",
    "```\n",
    "#include <stdio.h>\n",
    "#include <mpi.h>\n",
    "\n",
    "int main(int argc, char** argv) {\n",
    "    // Initialize MPI environment\n",
    "    MPI_Init(&argc, &argv);\n",
    "\n",
    "    // Get the total number of processes and the rank of the current process\n",
    "    int world_size, world_rank;\n",
    "    MPI_Comm_size(MPI_COMM_WORLD, &world_size);\n",
    "    MPI_Comm_rank(MPI_COMM_WORLD, &world_rank);\n",
    "\n",
    "    // Define a message buffer\n",
    "    int message = -1;\n",
    "    if (world_rank == 0) {\n",
    "        // If the current process is rank 0, initialize the message\n",
    "        message = 42;\n",
    "        // Send the message to process with rank 1\n",
    "        MPI_Send(&message, 1, MPI_INT, 1, 0, MPI_COMM_WORLD);\n",
    "        printf(\"Process 0 sent message: %d\\n\", message);\n",
    "    } else if (world_rank == 1) {\n",
    "        // If the current process is rank 1, receive the message from process with rank 0\n",
    "        MPI_Recv(&message, 1, MPI_INT, 0, 0, MPI_COMM_WORLD, MPI_STATUS_IGNORE);\n",
    "        printf(\"Process 1 received message: %d\\n\", message);\n",
    "    }\n",
    "\n",
    "    // Finalize MPI environment\n",
    "    MPI_Finalize();\n",
    "\n",
    "    return 0;\n",
    "}\n",
    "```\n",
    "\n",
    "To compile and run this MPI program using OpenMPI, follow these steps:\n",
    "\n",
    "0. The file send_recv_mpi.c contains the code required. \n",
    "\n",
    "1. Compile the code using the MPI compiler wrapper provided by OpenMPI. For C code, you can use mpicc:\n"
   ]
  },
  {
   "cell_type": "code",
   "execution_count": null,
   "metadata": {},
   "outputs": [],
   "source": [
    "!srun mpic++ -o Code/mpi_send_recv.o Code/mpi_send_recv.cpp"
   ]
  },
  {
   "cell_type": "markdown",
   "metadata": {},
   "source": [
    "2. Run the MPI program using mpirun, specifying the number of processes to be used. Since this program requires exactly 2 processes (rank 0 and rank 1), you should run it with 2 processes:"
   ]
  },
  {
   "cell_type": "code",
   "execution_count": null,
   "metadata": {},
   "outputs": [],
   "source": [
    "!srun mpirun -np 3 ./Code/mpi_send_recv.o"
   ]
  },
  {
   "cell_type": "markdown",
   "metadata": {},
   "source": []
  }
 ],
 "metadata": {
  "kernelspec": {
   "display_name": "Python 3",
   "language": "python",
   "name": "python3"
  },
  "language_info": {
   "codemirror_mode": {
    "name": "ipython",
    "version": 3
   },
   "file_extension": ".py",
   "mimetype": "text/x-python",
   "name": "python",
   "nbconvert_exporter": "python",
   "pygments_lexer": "ipython3",
   "version": "3.10.12"
  }
 },
 "nbformat": 4,
 "nbformat_minor": 2
}
